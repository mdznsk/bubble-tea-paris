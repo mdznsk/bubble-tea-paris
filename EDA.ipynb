{
 "metadata": {
  "language_info": {
   "codemirror_mode": {
    "name": "ipython",
    "version": 3
   },
   "file_extension": ".py",
   "mimetype": "text/x-python",
   "name": "python",
   "nbconvert_exporter": "python",
   "pygments_lexer": "ipython3",
   "version": "3.8.3-final"
  },
  "orig_nbformat": 2,
  "kernelspec": {
   "name": "python3",
   "display_name": "Python 3"
  }
 },
 "nbformat": 4,
 "nbformat_minor": 2,
 "cells": [
  {
   "cell_type": "code",
   "execution_count": 1,
   "metadata": {},
   "outputs": [],
   "source": [
    "import pandas as pd"
   ]
  },
  {
   "cell_type": "code",
   "execution_count": 2,
   "metadata": {},
   "outputs": [],
   "source": [
    "bbtea = pd.read_json('ns-names.json')\n",
    "#bbtea['address'] = bbtea['address'].apply(lambda x: x.replace('[','').replace(']','')) \n",
    "bbtea_col = pd.DataFrame(bbtea.address.tolist(), index= bbtea.index)\n",
    "bbtea_col = bbtea_col.replace(to_replace= '\\n', value= '', regex=True)"
   ]
  },
  {
   "cell_type": "code",
   "execution_count": 3,
   "metadata": {},
   "outputs": [],
   "source": [
    "bbtea_col = bbtea_col.rename(columns={1: 'address'})\n",
    "bbtea_col = bbtea_col['address'] #keeping only address column"
   ]
  },
  {
   "cell_type": "code",
   "execution_count": 4,
   "metadata": {},
   "outputs": [],
   "source": [
    "bbtea = pd.concat([bbtea, pd.DataFrame(bbtea_col)], axis=1) #df with names + addresses"
   ]
  },
  {
   "cell_type": "code",
   "execution_count": 5,
   "metadata": {},
   "outputs": [
    {
     "output_type": "execute_result",
     "data": {
      "text/plain": [
       "                        name  \\\n",
       "0                 糖轩  T'Xuan   \n",
       "1          machi machi Paris   \n",
       "2            甜觅茶室 Long & Tee   \n",
       "3        旺角茶餐厅 Mongkok Resto   \n",
       "4             初代抹茶甜品店 Matcha   \n",
       "..                       ...   \n",
       "70          熊猫煎饼 Panda Crêpe   \n",
       "71        日出茶太 Chatime (13区)   \n",
       "72       台北厨房 Taipei Gourmet   \n",
       "73                  糖楼 Sweet   \n",
       "74  一芳台湾水果茶 YiFang Fruit Tea   \n",
       "\n",
       "                                              address  \\\n",
       "0   [\\n            , \\n            56 Rue la Fayet...   \n",
       "1   [\\n            , \\n            5 Rue Chabanais...   \n",
       "2   [\\n            , \\n            39 Rue la Fayet...   \n",
       "3   [\\n            , \\n            23 Rue Juge, 75...   \n",
       "4   [\\n            , \\n            7 Rue Volta, 75...   \n",
       "..                                                ...   \n",
       "70  [\\n            , \\n            12 Rue Volta, 7...   \n",
       "71  [\\n            , \\n            124 Avenue de C...   \n",
       "72  [\\n            , \\n            5 Boulevard Sai...   \n",
       "73  [\\n            , \\n            Centre Commerci...   \n",
       "74  [\\n            , \\n            44 Rue de Riche...   \n",
       "\n",
       "                                              address          Coordinates  \\\n",
       "0               56 Rue la Fayette, 75009 Paris    ...  48.875299, 2.342124   \n",
       "1               5 Rue Chabanais, 75002 Paris      ...  48.867285, 2.336732   \n",
       "2               39 Rue la Fayette, 75009 Paris    ...  48.874694, 2.339004   \n",
       "3                  23 Rue Juge, 75015 Paris             48.849894, 2.29319   \n",
       "4                  7 Rue Volta, 75003 Paris            48.864887, 2.356882   \n",
       "..                                                ...                  ...   \n",
       "70                12 Rue Volta, 75003 Paris            48.864841, 2.356983   \n",
       "71              124 Avenue de Choisy, 75013 Paris ...  48.826668, 2.359739   \n",
       "72              5 Boulevard Saint Marcel, 75013 Pa...  48.839391, 2.360686   \n",
       "73              Centre Commercial OSLO 44 Avenue d...  48.823457, 2.365802   \n",
       "74              44 Rue de Richelieu, 75001 Paris  ...  48.865994, 2.337109   \n",
       "\n",
       "          Lat      Long  \n",
       "0   48.875299  2.342124  \n",
       "1   48.867285  2.336732  \n",
       "2   48.874694  2.339004  \n",
       "3   48.849894  2.293190  \n",
       "4   48.864887  2.356882  \n",
       "..        ...       ...  \n",
       "70  48.864841  2.356983  \n",
       "71  48.826668  2.359739  \n",
       "72  48.839391  2.360686  \n",
       "73  48.823457  2.365802  \n",
       "74  48.865994  2.337109  \n",
       "\n",
       "[75 rows x 6 columns]"
      ],
      "text/html": "<div>\n<style scoped>\n    .dataframe tbody tr th:only-of-type {\n        vertical-align: middle;\n    }\n\n    .dataframe tbody tr th {\n        vertical-align: top;\n    }\n\n    .dataframe thead th {\n        text-align: right;\n    }\n</style>\n<table border=\"1\" class=\"dataframe\">\n  <thead>\n    <tr style=\"text-align: right;\">\n      <th></th>\n      <th>name</th>\n      <th>address</th>\n      <th>address</th>\n      <th>Coordinates</th>\n      <th>Lat</th>\n      <th>Long</th>\n    </tr>\n  </thead>\n  <tbody>\n    <tr>\n      <th>0</th>\n      <td>糖轩  T'Xuan</td>\n      <td>[\\n            , \\n            56 Rue la Fayet...</td>\n      <td>56 Rue la Fayette, 75009 Paris    ...</td>\n      <td>48.875299, 2.342124</td>\n      <td>48.875299</td>\n      <td>2.342124</td>\n    </tr>\n    <tr>\n      <th>1</th>\n      <td>machi machi Paris</td>\n      <td>[\\n            , \\n            5 Rue Chabanais...</td>\n      <td>5 Rue Chabanais, 75002 Paris      ...</td>\n      <td>48.867285, 2.336732</td>\n      <td>48.867285</td>\n      <td>2.336732</td>\n    </tr>\n    <tr>\n      <th>2</th>\n      <td>甜觅茶室 Long &amp; Tee</td>\n      <td>[\\n            , \\n            39 Rue la Fayet...</td>\n      <td>39 Rue la Fayette, 75009 Paris    ...</td>\n      <td>48.874694, 2.339004</td>\n      <td>48.874694</td>\n      <td>2.339004</td>\n    </tr>\n    <tr>\n      <th>3</th>\n      <td>旺角茶餐厅 Mongkok Resto</td>\n      <td>[\\n            , \\n            23 Rue Juge, 75...</td>\n      <td>23 Rue Juge, 75015 Paris</td>\n      <td>48.849894, 2.29319</td>\n      <td>48.849894</td>\n      <td>2.293190</td>\n    </tr>\n    <tr>\n      <th>4</th>\n      <td>初代抹茶甜品店 Matcha</td>\n      <td>[\\n            , \\n            7 Rue Volta, 75...</td>\n      <td>7 Rue Volta, 75003 Paris</td>\n      <td>48.864887, 2.356882</td>\n      <td>48.864887</td>\n      <td>2.356882</td>\n    </tr>\n    <tr>\n      <th>...</th>\n      <td>...</td>\n      <td>...</td>\n      <td>...</td>\n      <td>...</td>\n      <td>...</td>\n      <td>...</td>\n    </tr>\n    <tr>\n      <th>70</th>\n      <td>熊猫煎饼 Panda Crêpe</td>\n      <td>[\\n            , \\n            12 Rue Volta, 7...</td>\n      <td>12 Rue Volta, 75003 Paris</td>\n      <td>48.864841, 2.356983</td>\n      <td>48.864841</td>\n      <td>2.356983</td>\n    </tr>\n    <tr>\n      <th>71</th>\n      <td>日出茶太 Chatime (13区)</td>\n      <td>[\\n            , \\n            124 Avenue de C...</td>\n      <td>124 Avenue de Choisy, 75013 Paris ...</td>\n      <td>48.826668, 2.359739</td>\n      <td>48.826668</td>\n      <td>2.359739</td>\n    </tr>\n    <tr>\n      <th>72</th>\n      <td>台北厨房 Taipei Gourmet</td>\n      <td>[\\n            , \\n            5 Boulevard Sai...</td>\n      <td>5 Boulevard Saint Marcel, 75013 Pa...</td>\n      <td>48.839391, 2.360686</td>\n      <td>48.839391</td>\n      <td>2.360686</td>\n    </tr>\n    <tr>\n      <th>73</th>\n      <td>糖楼 Sweet</td>\n      <td>[\\n            , \\n            Centre Commerci...</td>\n      <td>Centre Commercial OSLO 44 Avenue d...</td>\n      <td>48.823457, 2.365802</td>\n      <td>48.823457</td>\n      <td>2.365802</td>\n    </tr>\n    <tr>\n      <th>74</th>\n      <td>一芳台湾水果茶 YiFang Fruit Tea</td>\n      <td>[\\n            , \\n            44 Rue de Riche...</td>\n      <td>44 Rue de Richelieu, 75001 Paris  ...</td>\n      <td>48.865994, 2.337109</td>\n      <td>48.865994</td>\n      <td>2.337109</td>\n    </tr>\n  </tbody>\n</table>\n<p>75 rows × 6 columns</p>\n</div>"
     },
     "metadata": {},
     "execution_count": 5
    }
   ],
   "source": [
    "#adding lat, long in order to be able to map with plotly\n",
    "import requests\n",
    "\n",
    "def Coords():\n",
    "    coord_list = []\n",
    "    for index, row in bbtea.iterrows():\n",
    "        address = row['address']\n",
    "        api = 'http://api-adresse.data.gouv.fr/search/'\n",
    "        response = requests.get(api, params={'q': address, 'limit': 1})\n",
    "        response2 = response.json()\n",
    "        coord = response2['features'][0]['geometry']['coordinates'] #getting coordinates, wrong order though!\n",
    "        coord.reverse()\n",
    "        coord_list.append(coord)\n",
    "\n",
    "    return coord_list\n",
    "\n",
    "coord_list = Coords()\n",
    "bbtea['Coordinates'] = coord_list\n",
    "bbtea['Coordinates'] = bbtea['Coordinates'].astype(str).apply(lambda x: x.replace('[','').replace(']','')) \n",
    "bbtea['Lat'], bbtea['Long'] = bbtea['Coordinates'].str.split(',', 1).str\n",
    "bbtea['Lat'] = bbtea['Lat'].astype(float)\n",
    "bbtea['Long'] = bbtea['Long'].astype(float)\n",
    "bbtea"
   ]
  },
  {
   "cell_type": "code",
   "execution_count": 6,
   "metadata": {},
   "outputs": [
    {
     "output_type": "execute_result",
     "data": {
      "text/plain": [
       "name           0\n",
       "address        0\n",
       "address        0\n",
       "Coordinates    0\n",
       "Lat            0\n",
       "Long           0\n",
       "dtype: int64"
      ]
     },
     "metadata": {},
     "execution_count": 6
    }
   ],
   "source": [
    "bbtea.isnull().sum() #all good, no null values, all coodinates were found"
   ]
  },
  {
   "cell_type": "code",
   "execution_count": 9,
   "metadata": {},
   "outputs": [
    {
     "output_type": "display_data",
     "data": {
      "application/vnd.plotly.v1+json": {
       "config": {
        "plotlyServerURL": "https://plot.ly"
       },
       "data": [
        {
         "hovertemplate": "<b>%{hovertext}</b><br><br>Lat=%{lat}<br>Long=%{lon}<extra></extra>",
         "hovertext": [
          "糖轩  T'Xuan",
          "machi machi Paris",
          "甜觅茶室 Long & Tee",
          "旺角茶餐厅 Mongkok Resto",
          "初代抹茶甜品店 Matcha",
          "以茶 YITHÉ",
          "来座製茶 Laïzé",
          "小气茶 wowtea",
          "甜品工坊 Atelier de Pâtisserie",
          "茶点 Thé Point",
          "约吧 Le Régal",
          "TeaYammi",
          "草本茶集 Herb-Tea Taiwan",
          "CoCo Fresh Tea & Juice Paris",
          "青梅茶食 Pause Goût Thé",
          "鹿角巷 The Alley (1区)",
          "君临 Juné",
          "日出茶太 Chatime (15区)",
          "蜜糖烘焙 M sucré",
          "鹿角巷 The Alley (9区）",
          "熊猫煎饼 Panda Crêpe",
          "日出茶太 Chatime (13区)",
          "台北厨房 Taipei Gourmet",
          "糖楼 Sweet",
          "一芳台湾水果茶 YiFang Fruit Tea",
          "Le 37M2 Opéra",
          "幸福食光 Mr. Ye",
          "树茶 Tree Tea",
          "M63 Salon de thé Paris",
          "猫 MAO",
          "snowvan",
          "多瑞姆 Doriimu",
          "Temps Thé",
          "日出茶太 Chatime",
          "小兔子奶茶 Bubble Tea Bunny",
          "日出茶太 Chatime (3区)",
          "HereTea 这茶",
          "颐雲奶茶店 YI YUN",
          "有间茶舍 Tea House",
          "日出茶太 Chatime (Forum les Halles)",
          "SO FRESH 15区",
          "1995",
          "茶蜜 Chamie",
          "珍珠茶馆 ZENZOO",
          "香阁  O'31 (原 Bagel & Co)",
          "Seatea 奶茶店",
          "饮悦工坊 Yin Yoo",
          "日出茶太 Chatime Charonne (11区)",
          "BUBBLE ZOO",
          "日出茶太 Chatime (Mouffetard)",
          "糖轩  T'Xuan",
          "machi machi Paris",
          "甜觅茶室 Long & Tee",
          "旺角茶餐厅 Mongkok Resto",
          "初代抹茶甜品店 Matcha",
          "以茶 YITHÉ",
          "来座製茶 Laïzé",
          "小气茶 wowtea",
          "甜品工坊 Atelier de Pâtisserie",
          "茶点 Thé Point",
          "约吧 Le Régal",
          "TeaYammi",
          "草本茶集 Herb-Tea Taiwan",
          "CoCo Fresh Tea & Juice Paris",
          "青梅茶食 Pause Goût Thé",
          "鹿角巷 The Alley (1区)",
          "君临 Juné",
          "日出茶太 Chatime (15区)",
          "蜜糖烘焙 M sucré",
          "鹿角巷 The Alley (9区）",
          "熊猫煎饼 Panda Crêpe",
          "日出茶太 Chatime (13区)",
          "台北厨房 Taipei Gourmet",
          "糖楼 Sweet",
          "一芳台湾水果茶 YiFang Fruit Tea"
         ],
         "lat": [
          48.875299,
          48.867285,
          48.874694,
          48.849894,
          48.864887,
          48.861897,
          48.863074,
          48.86893,
          48.86465,
          48.859436,
          48.854523,
          48.866826,
          48.873825,
          48.851295,
          48.874097,
          48.867187,
          48.832503,
          48.849123,
          48.859513,
          48.872501,
          48.864841,
          48.826668,
          48.839391,
          48.823457,
          48.865994,
          48.86864,
          48.833665,
          48.875118,
          48.881999,
          48.87365,
          48.851766,
          48.871835,
          48.845352,
          48.865288,
          48.870916,
          48.864208,
          48.875278,
          48.866027,
          48.863477,
          48.860563,
          48.84394,
          48.865262,
          48.851578,
          48.86776,
          48.871036,
          48.859212,
          48.861963,
          48.854316,
          48.835248,
          48.844795,
          48.875299,
          48.867285,
          48.874694,
          48.849894,
          48.864887,
          48.861897,
          48.863074,
          48.86893,
          48.86465,
          48.859436,
          48.854523,
          48.866826,
          48.873825,
          48.851295,
          48.874097,
          48.867187,
          48.832503,
          48.849123,
          48.859513,
          48.872501,
          48.864841,
          48.826668,
          48.839391,
          48.823457,
          48.865994
         ],
         "legendgroup": "",
         "lon": [
          2.342124,
          2.336732,
          2.339004,
          2.29319,
          2.356882,
          2.349873,
          2.35494,
          2.336234,
          2.356019,
          2.377049,
          2.384261,
          2.335164,
          2.338046,
          2.346533,
          2.343094,
          2.334772,
          2.329518,
          2.287205,
          2.376285,
          2.335385,
          2.356983,
          2.359739,
          2.360686,
          2.365802,
          2.337109,
          2.336676,
          2.354341,
          2.341679,
          2.340758,
          2.344044,
          2.346185,
          2.333917,
          2.341682,
          2.33657,
          2.376549,
          2.354948,
          2.340739,
          2.335817,
          2.346257,
          2.349087,
          2.307539,
          2.350513,
          2.346063,
          2.336954,
          2.308316,
          2.349485,
          2.348675,
          2.385643,
          2.292164,
          2.349099,
          2.342124,
          2.336732,
          2.339004,
          2.29319,
          2.356882,
          2.349873,
          2.35494,
          2.336234,
          2.356019,
          2.377049,
          2.384261,
          2.335164,
          2.338046,
          2.346533,
          2.343094,
          2.334772,
          2.329518,
          2.287205,
          2.376285,
          2.335385,
          2.356983,
          2.359739,
          2.360686,
          2.365802,
          2.337109
         ],
         "marker": {
          "color": "#636efa"
         },
         "mode": "markers",
         "name": "",
         "showlegend": false,
         "subplot": "mapbox",
         "type": "scattermapbox"
        }
       ],
       "layout": {
        "height": 300,
        "legend": {
         "tracegroupgap": 0
        },
        "mapbox": {
         "center": {
          "lat": 48.859552959999974,
          "lon": 2.344252773333333
         },
         "domain": {
          "x": [
           0,
           1
          ],
          "y": [
           0,
           1
          ]
         },
         "style": "carto-positron",
         "zoom": 11
        },
        "margin": {
         "b": 0,
         "l": 0,
         "r": 0,
         "t": 0
        },
        "template": {
         "data": {
          "bar": [
           {
            "error_x": {
             "color": "#2a3f5f"
            },
            "error_y": {
             "color": "#2a3f5f"
            },
            "marker": {
             "line": {
              "color": "#E5ECF6",
              "width": 0.5
             }
            },
            "type": "bar"
           }
          ],
          "barpolar": [
           {
            "marker": {
             "line": {
              "color": "#E5ECF6",
              "width": 0.5
             }
            },
            "type": "barpolar"
           }
          ],
          "carpet": [
           {
            "aaxis": {
             "endlinecolor": "#2a3f5f",
             "gridcolor": "white",
             "linecolor": "white",
             "minorgridcolor": "white",
             "startlinecolor": "#2a3f5f"
            },
            "baxis": {
             "endlinecolor": "#2a3f5f",
             "gridcolor": "white",
             "linecolor": "white",
             "minorgridcolor": "white",
             "startlinecolor": "#2a3f5f"
            },
            "type": "carpet"
           }
          ],
          "choropleth": [
           {
            "colorbar": {
             "outlinewidth": 0,
             "ticks": ""
            },
            "type": "choropleth"
           }
          ],
          "contour": [
           {
            "colorbar": {
             "outlinewidth": 0,
             "ticks": ""
            },
            "colorscale": [
             [
              0,
              "#0d0887"
             ],
             [
              0.1111111111111111,
              "#46039f"
             ],
             [
              0.2222222222222222,
              "#7201a8"
             ],
             [
              0.3333333333333333,
              "#9c179e"
             ],
             [
              0.4444444444444444,
              "#bd3786"
             ],
             [
              0.5555555555555556,
              "#d8576b"
             ],
             [
              0.6666666666666666,
              "#ed7953"
             ],
             [
              0.7777777777777778,
              "#fb9f3a"
             ],
             [
              0.8888888888888888,
              "#fdca26"
             ],
             [
              1,
              "#f0f921"
             ]
            ],
            "type": "contour"
           }
          ],
          "contourcarpet": [
           {
            "colorbar": {
             "outlinewidth": 0,
             "ticks": ""
            },
            "type": "contourcarpet"
           }
          ],
          "heatmap": [
           {
            "colorbar": {
             "outlinewidth": 0,
             "ticks": ""
            },
            "colorscale": [
             [
              0,
              "#0d0887"
             ],
             [
              0.1111111111111111,
              "#46039f"
             ],
             [
              0.2222222222222222,
              "#7201a8"
             ],
             [
              0.3333333333333333,
              "#9c179e"
             ],
             [
              0.4444444444444444,
              "#bd3786"
             ],
             [
              0.5555555555555556,
              "#d8576b"
             ],
             [
              0.6666666666666666,
              "#ed7953"
             ],
             [
              0.7777777777777778,
              "#fb9f3a"
             ],
             [
              0.8888888888888888,
              "#fdca26"
             ],
             [
              1,
              "#f0f921"
             ]
            ],
            "type": "heatmap"
           }
          ],
          "heatmapgl": [
           {
            "colorbar": {
             "outlinewidth": 0,
             "ticks": ""
            },
            "colorscale": [
             [
              0,
              "#0d0887"
             ],
             [
              0.1111111111111111,
              "#46039f"
             ],
             [
              0.2222222222222222,
              "#7201a8"
             ],
             [
              0.3333333333333333,
              "#9c179e"
             ],
             [
              0.4444444444444444,
              "#bd3786"
             ],
             [
              0.5555555555555556,
              "#d8576b"
             ],
             [
              0.6666666666666666,
              "#ed7953"
             ],
             [
              0.7777777777777778,
              "#fb9f3a"
             ],
             [
              0.8888888888888888,
              "#fdca26"
             ],
             [
              1,
              "#f0f921"
             ]
            ],
            "type": "heatmapgl"
           }
          ],
          "histogram": [
           {
            "marker": {
             "colorbar": {
              "outlinewidth": 0,
              "ticks": ""
             }
            },
            "type": "histogram"
           }
          ],
          "histogram2d": [
           {
            "colorbar": {
             "outlinewidth": 0,
             "ticks": ""
            },
            "colorscale": [
             [
              0,
              "#0d0887"
             ],
             [
              0.1111111111111111,
              "#46039f"
             ],
             [
              0.2222222222222222,
              "#7201a8"
             ],
             [
              0.3333333333333333,
              "#9c179e"
             ],
             [
              0.4444444444444444,
              "#bd3786"
             ],
             [
              0.5555555555555556,
              "#d8576b"
             ],
             [
              0.6666666666666666,
              "#ed7953"
             ],
             [
              0.7777777777777778,
              "#fb9f3a"
             ],
             [
              0.8888888888888888,
              "#fdca26"
             ],
             [
              1,
              "#f0f921"
             ]
            ],
            "type": "histogram2d"
           }
          ],
          "histogram2dcontour": [
           {
            "colorbar": {
             "outlinewidth": 0,
             "ticks": ""
            },
            "colorscale": [
             [
              0,
              "#0d0887"
             ],
             [
              0.1111111111111111,
              "#46039f"
             ],
             [
              0.2222222222222222,
              "#7201a8"
             ],
             [
              0.3333333333333333,
              "#9c179e"
             ],
             [
              0.4444444444444444,
              "#bd3786"
             ],
             [
              0.5555555555555556,
              "#d8576b"
             ],
             [
              0.6666666666666666,
              "#ed7953"
             ],
             [
              0.7777777777777778,
              "#fb9f3a"
             ],
             [
              0.8888888888888888,
              "#fdca26"
             ],
             [
              1,
              "#f0f921"
             ]
            ],
            "type": "histogram2dcontour"
           }
          ],
          "mesh3d": [
           {
            "colorbar": {
             "outlinewidth": 0,
             "ticks": ""
            },
            "type": "mesh3d"
           }
          ],
          "parcoords": [
           {
            "line": {
             "colorbar": {
              "outlinewidth": 0,
              "ticks": ""
             }
            },
            "type": "parcoords"
           }
          ],
          "pie": [
           {
            "automargin": true,
            "type": "pie"
           }
          ],
          "scatter": [
           {
            "marker": {
             "colorbar": {
              "outlinewidth": 0,
              "ticks": ""
             }
            },
            "type": "scatter"
           }
          ],
          "scatter3d": [
           {
            "line": {
             "colorbar": {
              "outlinewidth": 0,
              "ticks": ""
             }
            },
            "marker": {
             "colorbar": {
              "outlinewidth": 0,
              "ticks": ""
             }
            },
            "type": "scatter3d"
           }
          ],
          "scattercarpet": [
           {
            "marker": {
             "colorbar": {
              "outlinewidth": 0,
              "ticks": ""
             }
            },
            "type": "scattercarpet"
           }
          ],
          "scattergeo": [
           {
            "marker": {
             "colorbar": {
              "outlinewidth": 0,
              "ticks": ""
             }
            },
            "type": "scattergeo"
           }
          ],
          "scattergl": [
           {
            "marker": {
             "colorbar": {
              "outlinewidth": 0,
              "ticks": ""
             }
            },
            "type": "scattergl"
           }
          ],
          "scattermapbox": [
           {
            "marker": {
             "colorbar": {
              "outlinewidth": 0,
              "ticks": ""
             }
            },
            "type": "scattermapbox"
           }
          ],
          "scatterpolar": [
           {
            "marker": {
             "colorbar": {
              "outlinewidth": 0,
              "ticks": ""
             }
            },
            "type": "scatterpolar"
           }
          ],
          "scatterpolargl": [
           {
            "marker": {
             "colorbar": {
              "outlinewidth": 0,
              "ticks": ""
             }
            },
            "type": "scatterpolargl"
           }
          ],
          "scatterternary": [
           {
            "marker": {
             "colorbar": {
              "outlinewidth": 0,
              "ticks": ""
             }
            },
            "type": "scatterternary"
           }
          ],
          "surface": [
           {
            "colorbar": {
             "outlinewidth": 0,
             "ticks": ""
            },
            "colorscale": [
             [
              0,
              "#0d0887"
             ],
             [
              0.1111111111111111,
              "#46039f"
             ],
             [
              0.2222222222222222,
              "#7201a8"
             ],
             [
              0.3333333333333333,
              "#9c179e"
             ],
             [
              0.4444444444444444,
              "#bd3786"
             ],
             [
              0.5555555555555556,
              "#d8576b"
             ],
             [
              0.6666666666666666,
              "#ed7953"
             ],
             [
              0.7777777777777778,
              "#fb9f3a"
             ],
             [
              0.8888888888888888,
              "#fdca26"
             ],
             [
              1,
              "#f0f921"
             ]
            ],
            "type": "surface"
           }
          ],
          "table": [
           {
            "cells": {
             "fill": {
              "color": "#EBF0F8"
             },
             "line": {
              "color": "white"
             }
            },
            "header": {
             "fill": {
              "color": "#C8D4E3"
             },
             "line": {
              "color": "white"
             }
            },
            "type": "table"
           }
          ]
         },
         "layout": {
          "annotationdefaults": {
           "arrowcolor": "#2a3f5f",
           "arrowhead": 0,
           "arrowwidth": 1
          },
          "coloraxis": {
           "colorbar": {
            "outlinewidth": 0,
            "ticks": ""
           }
          },
          "colorscale": {
           "diverging": [
            [
             0,
             "#8e0152"
            ],
            [
             0.1,
             "#c51b7d"
            ],
            [
             0.2,
             "#de77ae"
            ],
            [
             0.3,
             "#f1b6da"
            ],
            [
             0.4,
             "#fde0ef"
            ],
            [
             0.5,
             "#f7f7f7"
            ],
            [
             0.6,
             "#e6f5d0"
            ],
            [
             0.7,
             "#b8e186"
            ],
            [
             0.8,
             "#7fbc41"
            ],
            [
             0.9,
             "#4d9221"
            ],
            [
             1,
             "#276419"
            ]
           ],
           "sequential": [
            [
             0,
             "#0d0887"
            ],
            [
             0.1111111111111111,
             "#46039f"
            ],
            [
             0.2222222222222222,
             "#7201a8"
            ],
            [
             0.3333333333333333,
             "#9c179e"
            ],
            [
             0.4444444444444444,
             "#bd3786"
            ],
            [
             0.5555555555555556,
             "#d8576b"
            ],
            [
             0.6666666666666666,
             "#ed7953"
            ],
            [
             0.7777777777777778,
             "#fb9f3a"
            ],
            [
             0.8888888888888888,
             "#fdca26"
            ],
            [
             1,
             "#f0f921"
            ]
           ],
           "sequentialminus": [
            [
             0,
             "#0d0887"
            ],
            [
             0.1111111111111111,
             "#46039f"
            ],
            [
             0.2222222222222222,
             "#7201a8"
            ],
            [
             0.3333333333333333,
             "#9c179e"
            ],
            [
             0.4444444444444444,
             "#bd3786"
            ],
            [
             0.5555555555555556,
             "#d8576b"
            ],
            [
             0.6666666666666666,
             "#ed7953"
            ],
            [
             0.7777777777777778,
             "#fb9f3a"
            ],
            [
             0.8888888888888888,
             "#fdca26"
            ],
            [
             1,
             "#f0f921"
            ]
           ]
          },
          "colorway": [
           "#636efa",
           "#EF553B",
           "#00cc96",
           "#ab63fa",
           "#FFA15A",
           "#19d3f3",
           "#FF6692",
           "#B6E880",
           "#FF97FF",
           "#FECB52"
          ],
          "font": {
           "color": "#2a3f5f"
          },
          "geo": {
           "bgcolor": "white",
           "lakecolor": "white",
           "landcolor": "#E5ECF6",
           "showlakes": true,
           "showland": true,
           "subunitcolor": "white"
          },
          "hoverlabel": {
           "align": "left"
          },
          "hovermode": "closest",
          "mapbox": {
           "style": "light"
          },
          "paper_bgcolor": "white",
          "plot_bgcolor": "#E5ECF6",
          "polar": {
           "angularaxis": {
            "gridcolor": "white",
            "linecolor": "white",
            "ticks": ""
           },
           "bgcolor": "#E5ECF6",
           "radialaxis": {
            "gridcolor": "white",
            "linecolor": "white",
            "ticks": ""
           }
          },
          "scene": {
           "xaxis": {
            "backgroundcolor": "#E5ECF6",
            "gridcolor": "white",
            "gridwidth": 2,
            "linecolor": "white",
            "showbackground": true,
            "ticks": "",
            "zerolinecolor": "white"
           },
           "yaxis": {
            "backgroundcolor": "#E5ECF6",
            "gridcolor": "white",
            "gridwidth": 2,
            "linecolor": "white",
            "showbackground": true,
            "ticks": "",
            "zerolinecolor": "white"
           },
           "zaxis": {
            "backgroundcolor": "#E5ECF6",
            "gridcolor": "white",
            "gridwidth": 2,
            "linecolor": "white",
            "showbackground": true,
            "ticks": "",
            "zerolinecolor": "white"
           }
          },
          "shapedefaults": {
           "line": {
            "color": "#2a3f5f"
           }
          },
          "ternary": {
           "aaxis": {
            "gridcolor": "white",
            "linecolor": "white",
            "ticks": ""
           },
           "baxis": {
            "gridcolor": "white",
            "linecolor": "white",
            "ticks": ""
           },
           "bgcolor": "#E5ECF6",
           "caxis": {
            "gridcolor": "white",
            "linecolor": "white",
            "ticks": ""
           }
          },
          "title": {
           "x": 0.05
          },
          "xaxis": {
           "automargin": true,
           "gridcolor": "white",
           "linecolor": "white",
           "ticks": "",
           "title": {
            "standoff": 15
           },
           "zerolinecolor": "white",
           "zerolinewidth": 2
          },
          "yaxis": {
           "automargin": true,
           "gridcolor": "white",
           "linecolor": "white",
           "ticks": "",
           "title": {
            "standoff": 15
           },
           "zerolinecolor": "white",
           "zerolinewidth": 2
          }
         }
        }
       }
      }
     },
     "metadata": {}
    }
   ],
   "source": [
    "#mapping locations in paris\n",
    "import plotly.express as px\n",
    "\n",
    "fig = px.scatter_mapbox(bbtea, lat=\"Lat\", lon=\"Long\", hover_name=\"name\",\n",
    "                    zoom=11, height=300)\n",
    "fig.update_layout(mapbox_style=\"carto-positron\")\n",
    "fig.update_layout(margin={\"r\":0,\"t\":0,\"l\":0,\"b\":0})\n",
    "fig.show()"
   ]
  },
  {
   "cell_type": "code",
   "execution_count": null,
   "metadata": {},
   "outputs": [],
   "source": []
  }
 ]
}